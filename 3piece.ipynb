{
 "cells": [
  {
   "cell_type": "code",
   "execution_count": 3,
   "metadata": {},
   "outputs": [
    {
     "name": "stdout",
     "output_type": "stream",
     "text": [
      "Win draw loss is: 2\n",
      "Distance to zeroing: 1\n"
     ]
    }
   ],
   "source": [
    "import chess\n",
    "import chess.syzygy\n",
    "\n",
    "with chess.syzygy.open_tablebase(\"data/syzygy/regular\") as tablebase:\n",
    "     ## White King, Black King and White Queen\n",
    "     board = chess.Board(\"4k3/8/3QK3/8/8/8/8/8 w - - 0 1\")\n",
    "     print(\"Win draw loss is: \"+ str(tablebase.probe_wdl(board)))\n",
    "     print(\"Distance to zeroing: \"+ str(tablebase.probe_dtz(board)))"
   ]
  },
  {
   "cell_type": "code",
   "execution_count": 5,
   "metadata": {},
   "outputs": [
    {
     "name": "stdout",
     "output_type": "stream",
     "text": [
      "Win draw loss is: -2\n",
      "Distance to zeroing: -4\n"
     ]
    }
   ],
   "source": [
    "import chess\n",
    "import chess.syzygy\n",
    "\n",
    "with chess.syzygy.open_tablebase(\"data/syzygy/regular\") as tablebase:\n",
    "     ## White King, Black King and Black Rook\n",
    "     board = chess.Board(\"8/8/3r4/8/8/8/5k1K/8 w - - 0 1\")\n",
    "     print(\"Win draw loss is: \"+ str(tablebase.probe_wdl(board)))\n",
    "     print(\"Distance to zeroing: \"+ str(tablebase.probe_dtz(board)))"
   ]
  },
  {
   "cell_type": "code",
   "execution_count": 50,
   "metadata": {},
   "outputs": [
    {
     "name": "stdout",
     "output_type": "stream",
     "text": [
      "Win draw loss is: 0\n",
      "Distance to zeroing: 0\n"
     ]
    }
   ],
   "source": [
    "import chess\n",
    "import chess.syzygy\n",
    "\n",
    "with chess.syzygy.open_tablebase(\"data/syzygy/regular\") as tablebase:\n",
    "     ## White King, Black King and white bishop\n",
    "     board = chess.Board(\"6k1/8/6K1/8/3B4/8/8/8 w - - 0 1\")\n",
    "     print(\"Win draw loss is: \"+ str(tablebase.probe_wdl(board)))\n",
    "     print(\"Distance to zeroing: \"+ str(tablebase.probe_dtz(board)))"
   ]
  },
  {
   "cell_type": "code",
   "execution_count": 49,
   "metadata": {},
   "outputs": [
    {
     "name": "stdout",
     "output_type": "stream",
     "text": [
      "Win draw loss is: 0\n",
      "Distance to zeroing: 0\n"
     ]
    }
   ],
   "source": [
    "import chess\n",
    "import chess.syzygy\n",
    "\n",
    "with chess.syzygy.open_tablebase(\"data/syzygy/regular\") as tablebase:\n",
    "     ## White King, Black King and black knight\n",
    "     board = chess.Board(\"6k1/3n4/6K1/8/8/8/8/8 w - - 0 1\")\n",
    "     print(\"Win draw loss is: \"+ str(tablebase.probe_wdl(board)))\n",
    "     print(\"Distance to zeroing: \"+ str(tablebase.probe_dtz(board)))"
   ]
  },
  {
   "cell_type": "code",
   "execution_count": 48,
   "metadata": {},
   "outputs": [
    {
     "name": "stdout",
     "output_type": "stream",
     "text": [
      "Win draw loss is: 2\n",
      "Distance to zeroing: 1\n"
     ]
    }
   ],
   "source": [
    "import chess\n",
    "import chess.syzygy\n",
    "\n",
    "with chess.syzygy.open_tablebase(\"data/syzygy/regular\") as tablebase:\n",
    "     ## White King, Black King and white pawn\n",
    "     board = chess.Board(\"1k6/4P3/1K6/8/8/8/8/8 w - - 0 1\")\n",
    "     print(\"Win draw loss is: \"+ str(tablebase.probe_wdl(board)))\n",
    "     print(\"Distance to zeroing: \"+ str(tablebase.probe_dtz(board)))"
   ]
  },
  {
   "cell_type": "code",
   "execution_count": 1,
   "metadata": {},
   "outputs": [
    {
     "name": "stdout",
     "output_type": "stream",
     "text": [
      "Win draw loss is: 0\n",
      "Distance to zeroing: 0\n"
     ]
    }
   ],
   "source": [
    "import chess\n",
    "import chess.syzygy\n",
    "\n",
    "with chess.syzygy.open_tablebase(\"data/syzygy/regular\") as tablebase:\n",
    "     ## White King, Black King\n",
    "     board = chess.Board(\"1k6/8/1K6/8/8/8/8/8 w - - 0 1\")\n",
    "     print(\"Win draw loss is: \"+ str(tablebase.probe_wdl(board)))\n",
    "     print(\"Distance to zeroing: \"+ str(tablebase.probe_dtz(board)))"
   ]
  }
 ],
 "metadata": {
  "kernelspec": {
   "display_name": "Python 3",
   "language": "python",
   "name": "python3"
  },
  "language_info": {
   "codemirror_mode": {
    "name": "ipython",
    "version": 3
   },
   "file_extension": ".py",
   "mimetype": "text/x-python",
   "name": "python",
   "nbconvert_exporter": "python",
   "pygments_lexer": "ipython3",
   "version": "3.10.10"
  },
  "orig_nbformat": 4,
  "vscode": {
   "interpreter": {
    "hash": "769ed90b482252e3c765f95a84ef11daa4964dcccc2a6fb5cec55c36d9763e0a"
   }
  }
 },
 "nbformat": 4,
 "nbformat_minor": 2
}
